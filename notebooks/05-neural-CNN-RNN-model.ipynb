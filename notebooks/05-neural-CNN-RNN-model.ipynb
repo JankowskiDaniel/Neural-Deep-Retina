{
 "cells": [
  {
   "cell_type": "code",
   "execution_count": 1,
   "metadata": {},
   "outputs": [],
   "source": [
    "import torch\n",
    "import torch.nn as nn\n",
    "import torch.nn.functional as F\n",
    "from torchvision import transforms\n",
    "\n",
    "import numpy as np\n",
    "from h5py import File\n",
    "import matplotlib.pyplot as plt\n",
    "from tqdm import tqdm\n",
    "\n",
    "from torch.utils.data import DataLoader, Subset\n",
    "from vis_utils import plot_time_series\n",
    "import numpy as np"
   ]
  },
  {
   "cell_type": "code",
   "execution_count": 2,
   "metadata": {},
   "outputs": [],
   "source": [
    "# define the transform function\n",
    "trans = transforms.Compose([\n",
    "    transforms.ToTensor(),\n",
    "])"
   ]
  },
  {
   "cell_type": "code",
   "execution_count": 3,
   "metadata": {},
   "outputs": [],
   "source": [
    "class H5Dataset(torch.utils.data.Dataset):\n",
    "    def __init__(self, path: str,\n",
    "                 response_type: str,\n",
    "                 sequence_length: int = 10,\n",
    "                 transform: transforms.Compose = trans,\n",
    "                 train: bool= True):\n",
    "        self.file_path = path\n",
    "        # The available types are firing_rate_10ms, binned\n",
    "        self.response_type = response_type\n",
    "        self.X = None\n",
    "        self.y = None\n",
    "        self.transform = transform\n",
    "        # Choose either train or test subsets\n",
    "        self.data_type = \"train\" if train else \"test\"\n",
    "\n",
    "        self.sequence_length = sequence_length\n",
    "        with File(self.file_path, 'r') as file:\n",
    "            self.dataset_len = len(file[self.data_type][\"stimulus\"][:500])\n",
    "\n",
    "    def __getitem__(self, idx: int):\n",
    "        if self.X is None or self.y is None:\n",
    "            h5file = File(self.file_path, 'r')\n",
    "            # Read as numpy array\n",
    "            # TODO: see if there is a better way\n",
    "            self.X = np.asarray(h5file[self.data_type][\"stimulus\"][:500])\n",
    "            self.y = np.asarray(h5file[self.data_type][\"response\"][self.response_type][:500])\n",
    "            # Swap axes of y since it is channels last\n",
    "            self.y = np.transpose(self.y, axes=None)\n",
    "            self.y = self.y.astype(\"float32\")\n",
    "\n",
    "        # Handle wrapping around the dataset for indices less than sequence length\n",
    "        if idx < self.sequence_length - 1:\n",
    "            wrapped_indices = [(idx - i) % self.dataset_len for i in range(self.sequence_length)]\n",
    "            wrapped_indices = wrapped_indices[::-1]  # Reverse to maintain the correct order\n",
    "        else:\n",
    "            wrapped_indices = list(range(idx - self.sequence_length + 1, idx + 1))\n",
    "\n",
    "        # Get the sequence of images\n",
    "        x_sequence = self.X[wrapped_indices]\n",
    "        \n",
    "        # Transform each image in the sequence if a transform is provided\n",
    "        if self.transform:\n",
    "            x_sequence = np.array([self.transform(img) for img in x_sequence])\n",
    "        x_sequence = torch.tensor(x_sequence, dtype=torch.float32)\n",
    "        \n",
    "        # Get the response of the last image in the sequence\n",
    "        y = torch.tensor(self.y[idx][0], dtype=torch.float32)\n",
    "        \n",
    "        return x_sequence, y\n",
    "\n",
    "    def __len__(self):\n",
    "        return self.dataset_len"
   ]
  },
  {
   "cell_type": "code",
   "execution_count": 4,
   "metadata": {},
   "outputs": [],
   "source": [
    "# adjust a path to the sample h5 file\n",
    "dataset_path = \"../data/neural_code_data/neural_code_data/ganglion_cell_data/15-10-07/naturalscene.h5\"\n",
    "\n",
    "train_dataset = H5Dataset(dataset_path, response_type=\"firing_rate_10ms\", train=True)\n",
    "val_dataset = H5Dataset(dataset_path, response_type=\"firing_rate_10ms\", train=True)\n",
    "test_dataset = H5Dataset(dataset_path, response_type=\"firing_rate_10ms\", train=False)"
   ]
  },
  {
   "cell_type": "code",
   "execution_count": 5,
   "metadata": {},
   "outputs": [
    {
     "name": "stdout",
     "output_type": "stream",
     "text": [
      "Number of training images 500\n",
      "Number of validation images 500\n",
      "Number of testing images 500\n"
     ]
    }
   ],
   "source": [
    "# # Determine the split point\n",
    "# dataset_len = len(train_dataset)\n",
    "# train_split = int(0.8 * dataset_len)  # 80% for training\n",
    "# val_split = dataset_len - train_split  # 20% for validation\n",
    "\n",
    "# train_indices = list(range(train_split))\n",
    "# val_indices = list(range(train_split, dataset_len))\n",
    "\n",
    "# train_dataset = Subset(train_dataset, train_indices)\n",
    "# val_dataset = Subset(train_dataset, val_indices)\n",
    "\n",
    "print(\"Number of training images\", len(train_dataset))\n",
    "print(\"Number of validation images\", len(val_dataset))\n",
    "print(\"Number of testing images\", len(test_dataset))"
   ]
  },
  {
   "cell_type": "code",
   "execution_count": 6,
   "metadata": {},
   "outputs": [],
   "source": [
    "# create data loaders\n",
    "BATCH_SIZE = 500\n",
    "train_loader = DataLoader(train_dataset, batch_size=BATCH_SIZE, shuffle=False)\n",
    "val_loader = DataLoader(val_dataset, batch_size=BATCH_SIZE, shuffle=False)\n",
    "test_loader = DataLoader(test_dataset, batch_size=BATCH_SIZE, shuffle=False)"
   ]
  },
  {
   "cell_type": "code",
   "execution_count": 7,
   "metadata": {},
   "outputs": [],
   "source": [
    "class RetinaCNN(nn.Module):\n",
    "    def __init__(self, \n",
    "                 out_channels: int = 8,\n",
    "                 n_units: int = 9):\n",
    "        super(RetinaCNN, self).__init__()\n",
    "        self.out_channels = out_channels\n",
    "        self.n_units = n_units\n",
    "        self.bn_moment = 0.1\n",
    "\n",
    "        # Convolutional layers\n",
    "        self.conv1 = nn.Conv2d(in_channels=1, out_channels=out_channels, kernel_size=3, stride=1, padding=1)\n",
    "        self.bn1 = nn.BatchNorm2d(out_channels, eps=1e-3, momentum=self.bn_moment)\n",
    "        self.conv2 = nn.Conv2d(in_channels=out_channels, out_channels=2 * out_channels, kernel_size=3, stride=1, padding=1)\n",
    "        self.bn2 = nn.BatchNorm2d(2 * out_channels, eps=1e-3, momentum=self.bn_moment)\n",
    "        self.conv3 = nn.Conv2d(in_channels=2 * out_channels, out_channels=4 * out_channels, kernel_size=3, stride=1, padding=1)\n",
    "        self.bn3 = nn.BatchNorm2d(4 * out_channels, eps=1e-3, momentum=self.bn_moment)\n",
    "\n",
    "    def forward(self, x):\n",
    "        x = self.conv1(x)\n",
    "        x = self.bn1(x)\n",
    "        x = nn.ReLU()(x)\n",
    "        \n",
    "        x = self.conv2(x)\n",
    "        x = self.bn2(x)\n",
    "        x = nn.ReLU()(x)\n",
    "        \n",
    "        x = self.conv3(x)\n",
    "        x = self.bn3(x)\n",
    "        x = nn.ReLU()(x)\n",
    "        \n",
    "        x = nn.Flatten()(x)\n",
    "        return x\n",
    "\n",
    "class CNNRNNModel(nn.Module):\n",
    "    def __init__(self, image_shape, sequence_length, out_channels: int = 8, n_units: int = 9):\n",
    "        super(CNNRNNModel, self).__init__()\n",
    "        self.sequence_length = sequence_length\n",
    "\n",
    "        # Define the CNN part using RetinaCNN\n",
    "        self.cnn = RetinaCNN(out_channels, n_units)\n",
    "\n",
    "        # Calculate the size of the feature map after the CNN layers\n",
    "        with torch.no_grad():\n",
    "            self.feature_size = self.cnn(torch.zeros(1, *image_shape)).shape[1]\n",
    "\n",
    "        # Define the RNN part\n",
    "        self.rnn = nn.LSTM(input_size=self.feature_size, hidden_size=128, batch_first=True)\n",
    "        self.fc = nn.Linear(128, n_units)\n",
    "\n",
    "    def forward(self, x):\n",
    "        batch_size, seq_len, channels, height, width = x.shape\n",
    "        cnn_out = []\n",
    "        for t in range(seq_len):\n",
    "            cnn_out.append(self.cnn(x[:, t]))\n",
    "        cnn_out = torch.stack(cnn_out, dim=1)\n",
    "        rnn_out, _ = self.rnn(cnn_out)\n",
    "        output = self.fc(rnn_out[:, -1])\n",
    "        output = nn.Softplus()(output)\n",
    "        return output"
   ]
  },
  {
   "cell_type": "code",
   "execution_count": 8,
   "metadata": {},
   "outputs": [
    {
     "data": {
      "text/plain": [
       "CNNRNNModel(\n",
       "  (cnn): RetinaCNN(\n",
       "    (conv1): Conv2d(1, 8, kernel_size=(3, 3), stride=(1, 1), padding=(1, 1))\n",
       "    (bn1): BatchNorm2d(8, eps=0.001, momentum=0.1, affine=True, track_running_stats=True)\n",
       "    (conv2): Conv2d(8, 16, kernel_size=(3, 3), stride=(1, 1), padding=(1, 1))\n",
       "    (bn2): BatchNorm2d(16, eps=0.001, momentum=0.1, affine=True, track_running_stats=True)\n",
       "    (conv3): Conv2d(16, 32, kernel_size=(3, 3), stride=(1, 1), padding=(1, 1))\n",
       "    (bn3): BatchNorm2d(32, eps=0.001, momentum=0.1, affine=True, track_running_stats=True)\n",
       "  )\n",
       "  (rnn): LSTM(80000, 128, batch_first=True)\n",
       "  (fc): Linear(in_features=128, out_features=1, bias=True)\n",
       ")"
      ]
     },
     "execution_count": 8,
     "metadata": {},
     "output_type": "execute_result"
    }
   ],
   "source": [
    "x, y = next(iter(train_loader))\n",
    "model = CNNRNNModel((1, 50, 50), sequence_length=10, n_units=1)\n",
    "model.cuda()\n",
    "model.train()\n"
   ]
  },
  {
   "cell_type": "code",
   "execution_count": 9,
   "metadata": {},
   "outputs": [],
   "source": [
    "class WeightedMSELoss(nn.Module):\n",
    "    def __init__(self, weight=1.0):\n",
    "        super(WeightedMSELoss, self).__init__()\n",
    "        self.weight = weight\n",
    "\n",
    "    def forward(self, inputs, targets):\n",
    "        weights = torch.where(targets > 1, self.weight, 1.0)\n",
    "        return torch.mean(weights * (inputs - targets) ** 2)"
   ]
  },
  {
   "cell_type": "code",
   "execution_count": 10,
   "metadata": {},
   "outputs": [],
   "source": [
    "# define training parameters\n",
    "LEARNING_RATE = 0.005\n",
    "EPOCHS = 50\n",
    "optimizer = torch.optim.Adam(model.parameters(), lr=LEARNING_RATE)\n",
    "loss_fn = WeightedMSELoss(weight=10)"
   ]
  },
  {
   "cell_type": "code",
   "execution_count": 11,
   "metadata": {},
   "outputs": [
    {
     "name": "stderr",
     "output_type": "stream",
     "text": [
      "Training Batches:   0%|          | 0/1 [00:00<?, ?it/s]/root/miniconda3/envs/neural_deep/lib/python3.10/site-packages/torch/autograd/graph.py:744: UserWarning: Plan failed with a cudnnException: CUDNN_BACKEND_EXECUTION_PLAN_DESCRIPTOR: cudnnFinalize Descriptor Failed cudnn_status: CUDNN_STATUS_NOT_SUPPORTED (Triggered internally at /opt/conda/conda-bld/pytorch_1712608935911/work/aten/src/ATen/native/cudnn/Conv_v8.cpp:919.)\n",
      "  return Variable._execution_engine.run_backward(  # Calls into the C++ engine to run the backward pass\n",
      "                                                               \r"
     ]
    },
    {
     "name": "stdout",
     "output_type": "stream",
     "text": [
      "Epoch 1 \t\t Training Loss: 4334.458984375 \t\t Validation Loss: 4143.4521484375\n"
     ]
    },
    {
     "name": "stderr",
     "output_type": "stream",
     "text": [
      "                                                               \r"
     ]
    },
    {
     "name": "stdout",
     "output_type": "stream",
     "text": [
      "Epoch 2 \t\t Training Loss: 4148.7041015625 \t\t Validation Loss: 4115.1630859375\n"
     ]
    },
    {
     "name": "stderr",
     "output_type": "stream",
     "text": [
      "                                                               \r"
     ]
    },
    {
     "name": "stdout",
     "output_type": "stream",
     "text": [
      "Epoch 3 \t\t Training Loss: 4118.95263671875 \t\t Validation Loss: 4090.69921875\n"
     ]
    },
    {
     "name": "stderr",
     "output_type": "stream",
     "text": [
      "                                                               \r"
     ]
    },
    {
     "name": "stdout",
     "output_type": "stream",
     "text": [
      "Epoch 4 \t\t Training Loss: 4093.21728515625 \t\t Validation Loss: 4067.092529296875\n"
     ]
    },
    {
     "name": "stderr",
     "output_type": "stream",
     "text": [
      "                                                               \r"
     ]
    },
    {
     "name": "stdout",
     "output_type": "stream",
     "text": [
      "Epoch 5 \t\t Training Loss: 4067.744140625 \t\t Validation Loss: 4044.06201171875\n"
     ]
    },
    {
     "name": "stderr",
     "output_type": "stream",
     "text": [
      "                                                               \r"
     ]
    },
    {
     "name": "stdout",
     "output_type": "stream",
     "text": [
      "Epoch 6 \t\t Training Loss: 4044.128662109375 \t\t Validation Loss: 4020.64208984375\n"
     ]
    },
    {
     "name": "stderr",
     "output_type": "stream",
     "text": [
      "                                                               \r"
     ]
    },
    {
     "name": "stdout",
     "output_type": "stream",
     "text": [
      "Epoch 7 \t\t Training Loss: 4020.9443359375 \t\t Validation Loss: 3998.183349609375\n"
     ]
    },
    {
     "name": "stderr",
     "output_type": "stream",
     "text": [
      "                                                               \r"
     ]
    },
    {
     "name": "stdout",
     "output_type": "stream",
     "text": [
      "Epoch 8 \t\t Training Loss: 3998.287353515625 \t\t Validation Loss: 3974.53271484375\n"
     ]
    },
    {
     "name": "stderr",
     "output_type": "stream",
     "text": [
      "                                                               \r"
     ]
    },
    {
     "name": "stdout",
     "output_type": "stream",
     "text": [
      "Epoch 9 \t\t Training Loss: 3975.6806640625 \t\t Validation Loss: 3951.861328125\n"
     ]
    },
    {
     "name": "stderr",
     "output_type": "stream",
     "text": [
      "                                                               \r"
     ]
    },
    {
     "name": "stdout",
     "output_type": "stream",
     "text": [
      "Epoch 10 \t\t Training Loss: 3953.34814453125 \t\t Validation Loss: 3929.30322265625\n"
     ]
    },
    {
     "name": "stderr",
     "output_type": "stream",
     "text": [
      "                                                               \r"
     ]
    },
    {
     "name": "stdout",
     "output_type": "stream",
     "text": [
      "Epoch 11 \t\t Training Loss: 3931.243408203125 \t\t Validation Loss: 3907.414794921875\n"
     ]
    },
    {
     "name": "stderr",
     "output_type": "stream",
     "text": [
      "                                                               \r"
     ]
    },
    {
     "name": "stdout",
     "output_type": "stream",
     "text": [
      "Epoch 12 \t\t Training Loss: 3909.093017578125 \t\t Validation Loss: 3885.6728515625\n"
     ]
    },
    {
     "name": "stderr",
     "output_type": "stream",
     "text": [
      "                                                               \r"
     ]
    },
    {
     "name": "stdout",
     "output_type": "stream",
     "text": [
      "Epoch 13 \t\t Training Loss: 3886.35400390625 \t\t Validation Loss: 3864.07421875\n"
     ]
    },
    {
     "name": "stderr",
     "output_type": "stream",
     "text": [
      "                                                               \r"
     ]
    },
    {
     "name": "stdout",
     "output_type": "stream",
     "text": [
      "Epoch 14 \t\t Training Loss: 3865.114013671875 \t\t Validation Loss: 3843.1416015625\n"
     ]
    },
    {
     "name": "stderr",
     "output_type": "stream",
     "text": [
      "                                                               \r"
     ]
    },
    {
     "name": "stdout",
     "output_type": "stream",
     "text": [
      "Epoch 15 \t\t Training Loss: 3843.6591796875 \t\t Validation Loss: 3823.814208984375\n"
     ]
    },
    {
     "name": "stderr",
     "output_type": "stream",
     "text": [
      "                                                               \r"
     ]
    },
    {
     "name": "stdout",
     "output_type": "stream",
     "text": [
      "Epoch 16 \t\t Training Loss: 3822.577392578125 \t\t Validation Loss: 3805.184814453125\n"
     ]
    },
    {
     "name": "stderr",
     "output_type": "stream",
     "text": [
      "                                                               \r"
     ]
    },
    {
     "name": "stdout",
     "output_type": "stream",
     "text": [
      "Epoch 17 \t\t Training Loss: 3802.39208984375 \t\t Validation Loss: 3784.658203125\n"
     ]
    },
    {
     "name": "stderr",
     "output_type": "stream",
     "text": [
      "                                                               \r"
     ]
    },
    {
     "name": "stdout",
     "output_type": "stream",
     "text": [
      "Epoch 18 \t\t Training Loss: 3781.5537109375 \t\t Validation Loss: 3761.94384765625\n"
     ]
    },
    {
     "name": "stderr",
     "output_type": "stream",
     "text": [
      "                                                               \r"
     ]
    },
    {
     "name": "stdout",
     "output_type": "stream",
     "text": [
      "Epoch 19 \t\t Training Loss: 3762.00341796875 \t\t Validation Loss: 3742.9755859375\n"
     ]
    },
    {
     "name": "stderr",
     "output_type": "stream",
     "text": [
      "                                                               \r"
     ]
    },
    {
     "name": "stdout",
     "output_type": "stream",
     "text": [
      "Epoch 20 \t\t Training Loss: 3742.9755859375 \t\t Validation Loss: 3724.357666015625\n"
     ]
    },
    {
     "name": "stderr",
     "output_type": "stream",
     "text": [
      "                                                               \r"
     ]
    },
    {
     "name": "stdout",
     "output_type": "stream",
     "text": [
      "Epoch 21 \t\t Training Loss: 3724.357666015625 \t\t Validation Loss: 3706.1552734375\n"
     ]
    },
    {
     "name": "stderr",
     "output_type": "stream",
     "text": [
      "                                                               \r"
     ]
    },
    {
     "name": "stdout",
     "output_type": "stream",
     "text": [
      "Epoch 22 \t\t Training Loss: 3706.1552734375 \t\t Validation Loss: 3688.37060546875\n"
     ]
    },
    {
     "name": "stderr",
     "output_type": "stream",
     "text": [
      "                                                               \r"
     ]
    },
    {
     "name": "stdout",
     "output_type": "stream",
     "text": [
      "Epoch 23 \t\t Training Loss: 3688.37060546875 \t\t Validation Loss: 3671.005615234375\n"
     ]
    },
    {
     "name": "stderr",
     "output_type": "stream",
     "text": [
      "                                                               \r"
     ]
    },
    {
     "name": "stdout",
     "output_type": "stream",
     "text": [
      "Epoch 24 \t\t Training Loss: 3671.005615234375 \t\t Validation Loss: 3654.060546875\n"
     ]
    },
    {
     "name": "stderr",
     "output_type": "stream",
     "text": [
      "                                                               \r"
     ]
    },
    {
     "name": "stdout",
     "output_type": "stream",
     "text": [
      "Epoch 25 \t\t Training Loss: 3654.060546875 \t\t Validation Loss: 3637.535888671875\n"
     ]
    },
    {
     "name": "stderr",
     "output_type": "stream",
     "text": [
      "                                                               \r"
     ]
    },
    {
     "name": "stdout",
     "output_type": "stream",
     "text": [
      "Epoch 26 \t\t Training Loss: 3637.535888671875 \t\t Validation Loss: 3621.431396484375\n"
     ]
    },
    {
     "name": "stderr",
     "output_type": "stream",
     "text": [
      "                                                               \r"
     ]
    },
    {
     "name": "stdout",
     "output_type": "stream",
     "text": [
      "Epoch 27 \t\t Training Loss: 3621.431396484375 \t\t Validation Loss: 3605.744384765625\n"
     ]
    },
    {
     "name": "stderr",
     "output_type": "stream",
     "text": [
      "                                                               \r"
     ]
    },
    {
     "name": "stdout",
     "output_type": "stream",
     "text": [
      "Epoch 28 \t\t Training Loss: 3605.744384765625 \t\t Validation Loss: 3590.47412109375\n"
     ]
    },
    {
     "name": "stderr",
     "output_type": "stream",
     "text": [
      "                                                               \r"
     ]
    },
    {
     "name": "stdout",
     "output_type": "stream",
     "text": [
      "Epoch 29 \t\t Training Loss: 3590.47412109375 \t\t Validation Loss: 3575.6171875\n"
     ]
    },
    {
     "name": "stderr",
     "output_type": "stream",
     "text": [
      "                                                               \r"
     ]
    },
    {
     "name": "stdout",
     "output_type": "stream",
     "text": [
      "Epoch 30 \t\t Training Loss: 3575.6171875 \t\t Validation Loss: 3561.171142578125\n"
     ]
    },
    {
     "name": "stderr",
     "output_type": "stream",
     "text": [
      "                                                               \r"
     ]
    },
    {
     "name": "stdout",
     "output_type": "stream",
     "text": [
      "Epoch 31 \t\t Training Loss: 3561.171142578125 \t\t Validation Loss: 3547.1318359375\n"
     ]
    },
    {
     "name": "stderr",
     "output_type": "stream",
     "text": [
      "                                                               \r"
     ]
    },
    {
     "name": "stdout",
     "output_type": "stream",
     "text": [
      "Epoch 32 \t\t Training Loss: 3547.1318359375 \t\t Validation Loss: 3533.495361328125\n"
     ]
    },
    {
     "name": "stderr",
     "output_type": "stream",
     "text": [
      "                                                               \r"
     ]
    },
    {
     "name": "stdout",
     "output_type": "stream",
     "text": [
      "Epoch 33 \t\t Training Loss: 3533.495361328125 \t\t Validation Loss: 3520.257568359375\n"
     ]
    },
    {
     "name": "stderr",
     "output_type": "stream",
     "text": [
      "                                                               \r"
     ]
    },
    {
     "name": "stdout",
     "output_type": "stream",
     "text": [
      "Epoch 34 \t\t Training Loss: 3520.257568359375 \t\t Validation Loss: 3507.413818359375\n"
     ]
    },
    {
     "name": "stderr",
     "output_type": "stream",
     "text": [
      "                                                               \r"
     ]
    },
    {
     "name": "stdout",
     "output_type": "stream",
     "text": [
      "Epoch 35 \t\t Training Loss: 3507.413818359375 \t\t Validation Loss: 3494.95849609375\n"
     ]
    },
    {
     "name": "stderr",
     "output_type": "stream",
     "text": [
      "                                                               \r"
     ]
    },
    {
     "name": "stdout",
     "output_type": "stream",
     "text": [
      "Epoch 36 \t\t Training Loss: 3494.95849609375 \t\t Validation Loss: 3482.88720703125\n"
     ]
    },
    {
     "name": "stderr",
     "output_type": "stream",
     "text": [
      "                                                               \r"
     ]
    },
    {
     "name": "stdout",
     "output_type": "stream",
     "text": [
      "Epoch 37 \t\t Training Loss: 3482.88720703125 \t\t Validation Loss: 3471.193115234375\n"
     ]
    },
    {
     "name": "stderr",
     "output_type": "stream",
     "text": [
      "                                                               \r"
     ]
    },
    {
     "name": "stdout",
     "output_type": "stream",
     "text": [
      "Epoch 38 \t\t Training Loss: 3471.193115234375 \t\t Validation Loss: 3459.871337890625\n"
     ]
    },
    {
     "name": "stderr",
     "output_type": "stream",
     "text": [
      "                                                               \r"
     ]
    },
    {
     "name": "stdout",
     "output_type": "stream",
     "text": [
      "Epoch 39 \t\t Training Loss: 3459.871337890625 \t\t Validation Loss: 3448.91552734375\n"
     ]
    },
    {
     "name": "stderr",
     "output_type": "stream",
     "text": [
      "                                                               \r"
     ]
    },
    {
     "name": "stdout",
     "output_type": "stream",
     "text": [
      "Epoch 40 \t\t Training Loss: 3448.91552734375 \t\t Validation Loss: 3438.319091796875\n"
     ]
    },
    {
     "name": "stderr",
     "output_type": "stream",
     "text": [
      "                                                               \r"
     ]
    },
    {
     "name": "stdout",
     "output_type": "stream",
     "text": [
      "Epoch 41 \t\t Training Loss: 3438.319091796875 \t\t Validation Loss: 3428.07568359375\n"
     ]
    },
    {
     "name": "stderr",
     "output_type": "stream",
     "text": [
      "                                                               \r"
     ]
    },
    {
     "name": "stdout",
     "output_type": "stream",
     "text": [
      "Epoch 42 \t\t Training Loss: 3428.07568359375 \t\t Validation Loss: 3418.178955078125\n"
     ]
    },
    {
     "name": "stderr",
     "output_type": "stream",
     "text": [
      "                                                               \r"
     ]
    },
    {
     "name": "stdout",
     "output_type": "stream",
     "text": [
      "Epoch 43 \t\t Training Loss: 3418.178955078125 \t\t Validation Loss: 3408.62255859375\n"
     ]
    },
    {
     "name": "stderr",
     "output_type": "stream",
     "text": [
      "                                                               \r"
     ]
    },
    {
     "name": "stdout",
     "output_type": "stream",
     "text": [
      "Epoch 44 \t\t Training Loss: 3408.62255859375 \t\t Validation Loss: 3399.39892578125\n"
     ]
    },
    {
     "name": "stderr",
     "output_type": "stream",
     "text": [
      "                                                               \r"
     ]
    },
    {
     "name": "stdout",
     "output_type": "stream",
     "text": [
      "Epoch 45 \t\t Training Loss: 3399.39892578125 \t\t Validation Loss: 3390.50146484375\n"
     ]
    },
    {
     "name": "stderr",
     "output_type": "stream",
     "text": [
      "                                                               \r"
     ]
    },
    {
     "name": "stdout",
     "output_type": "stream",
     "text": [
      "Epoch 46 \t\t Training Loss: 3390.50146484375 \t\t Validation Loss: 3381.922607421875\n"
     ]
    },
    {
     "name": "stderr",
     "output_type": "stream",
     "text": [
      "                                                               \r"
     ]
    },
    {
     "name": "stdout",
     "output_type": "stream",
     "text": [
      "Epoch 47 \t\t Training Loss: 3381.922607421875 \t\t Validation Loss: 3373.656005859375\n"
     ]
    },
    {
     "name": "stderr",
     "output_type": "stream",
     "text": [
      "                                                               \r"
     ]
    },
    {
     "name": "stdout",
     "output_type": "stream",
     "text": [
      "Epoch 48 \t\t Training Loss: 3373.656005859375 \t\t Validation Loss: 3365.694091796875\n"
     ]
    },
    {
     "name": "stderr",
     "output_type": "stream",
     "text": [
      "                                                               \r"
     ]
    },
    {
     "name": "stdout",
     "output_type": "stream",
     "text": [
      "Epoch 49 \t\t Training Loss: 3365.694091796875 \t\t Validation Loss: 3358.029296875\n"
     ]
    },
    {
     "name": "stderr",
     "output_type": "stream",
     "text": [
      "                                                               \r"
     ]
    },
    {
     "name": "stdout",
     "output_type": "stream",
     "text": [
      "Epoch 50 \t\t Training Loss: 3358.029296875 \t\t Validation Loss: 3350.655517578125\n"
     ]
    }
   ],
   "source": [
    "min_valid_loss = np.inf\n",
    "history = {'train_losses': [], 'valid_losses': []}\n",
    "\n",
    "model.cuda()\n",
    "model.train()\n",
    "\n",
    "for epoch in range(EPOCHS):\n",
    "    model.train()\n",
    "    train_batch_losses = []\n",
    "    for data, labels in tqdm(train_loader, desc='Training Batches', leave=False):\n",
    "        model.zero_grad()\n",
    "        optimizer.zero_grad()\n",
    "        images = data.cuda()\n",
    "        targets = labels.cuda()\n",
    "        outputs = model(images)\n",
    "        \n",
    "        loss = loss_fn(outputs, targets)\n",
    "\n",
    "        loss.backward()\n",
    "        optimizer.step()\n",
    "        train_batch_losses.append(loss.item())\n",
    "    train_loss = np.sum(train_batch_losses) / len(train_batch_losses)\n",
    "    history['train_losses'].append(train_loss)\n",
    "\n",
    "    model.eval()\n",
    "    fin_targets=[]\n",
    "    fin_outputs=[]\n",
    "    valid_batch_losses=[]\n",
    "    with torch.no_grad():\n",
    "        for data, labels in val_loader:\n",
    "            images = data.cuda()\n",
    "            targets = labels.cuda()\n",
    "            outputs = model(images)\n",
    "\n",
    "            loss = loss_fn(outputs, targets)\n",
    "            valid_batch_losses.append(loss.item())\n",
    "        valid_loss = np.sum(valid_batch_losses) / len(valid_batch_losses)\n",
    "        history['valid_losses'].append(valid_loss)\n",
    "    \n",
    "    if min_valid_loss > train_loss:\n",
    "        torch.save(model.state_dict(), '../models/best_CNNRNN.pth')\n",
    "        min_valid_loss = train_loss\n",
    "    \n",
    "    print(f'Epoch {epoch+1} \\t\\t Training Loss: {train_loss} \\t\\t Validation Loss: {valid_loss}')\n",
    "    # print(f'Epoch {epoch+1} \\t\\t Training Loss: {train_loss}')\n",
    "\n",
    "\n",
    "    torch.save(model.state_dict(), '../models/final_CNNRNN.pth')"
   ]
  },
  {
   "cell_type": "code",
   "execution_count": 34,
   "metadata": {},
   "outputs": [],
   "source": [
    "# function for a test loader predictions\n",
    "def predict_loader(model, data_loader):\n",
    "    model.eval()\n",
    "    fin_targets=[]\n",
    "    fin_outputs=[]\n",
    "    with torch.no_grad():\n",
    "        for data, labels in tqdm(data_loader, desc='Batches'):\n",
    "            images = data.cuda()\n",
    "            targets = labels.cuda()\n",
    "            # targets = torch.expm1(targets)\n",
    "            outputs = model(images)\n",
    "            # outputs = torch.expm1(outputs)\n",
    "            fin_targets.extend(targets.cpu().detach().numpy().tolist())\n",
    "            fin_outputs.extend(outputs.cpu().detach().numpy().tolist())\n",
    "    return np.array(fin_outputs), np.array(fin_targets)"
   ]
  },
  {
   "cell_type": "code",
   "execution_count": 35,
   "metadata": {},
   "outputs": [
    {
     "data": {
      "text/plain": [
       "CNNRNNModel(\n",
       "  (cnn): RetinaCNN(\n",
       "    (conv1): Conv2d(1, 8, kernel_size=(3, 3), stride=(1, 1), padding=(1, 1))\n",
       "    (bn1): BatchNorm2d(8, eps=0.001, momentum=0.1, affine=True, track_running_stats=True)\n",
       "    (conv2): Conv2d(8, 16, kernel_size=(3, 3), stride=(1, 1), padding=(1, 1))\n",
       "    (bn2): BatchNorm2d(16, eps=0.001, momentum=0.1, affine=True, track_running_stats=True)\n",
       "    (conv3): Conv2d(16, 32, kernel_size=(3, 3), stride=(1, 1), padding=(1, 1))\n",
       "    (bn3): BatchNorm2d(32, eps=0.001, momentum=0.1, affine=True, track_running_stats=True)\n",
       "  )\n",
       "  (rnn): LSTM(80000, 128, batch_first=True)\n",
       "  (fc): Linear(in_features=128, out_features=1, bias=True)\n",
       ")"
      ]
     },
     "execution_count": 35,
     "metadata": {},
     "output_type": "execute_result"
    }
   ],
   "source": [
    "# load the best model\n",
    "model = CNNRNNModel((1,50,50), sequence_length=10, n_units=1)\n",
    "model.load_state_dict(torch.load('../models/best_CNNRNN.pth'))\n",
    "model.cuda()"
   ]
  },
  {
   "cell_type": "code",
   "execution_count": 53,
   "metadata": {},
   "outputs": [
    {
     "name": "stderr",
     "output_type": "stream",
     "text": [
      "Batches: 100%|██████████| 1/1 [00:02<00:00,  2.03s/it]\n"
     ]
    }
   ],
   "source": [
    "predictions, targets = predict_loader(model, train_loader)"
   ]
  },
  {
   "cell_type": "code",
   "execution_count": 54,
   "metadata": {},
   "outputs": [
    {
     "data": {
      "image/png": "[encoded data removed]",
      "text/plain": [
       "<Figure size 1000x600 with 1 Axes>"
      ]
     },
     "metadata": {},
     "output_type": "display_data"
    }
   ],
   "source": [
    "predictions = predictions.flatten()\n",
    "\n",
    "# plot the predictions\n",
    "plt.figure(figsize=(10, 6))\n",
    "plt.plot(targets, label='Targets')\n",
    "plt.plot(predictions, label='Predictions')\n",
    "plt.legend()\n",
    "plt.show()"
   ]
  }
 ],
 "metadata": {
  "kernelspec": {
   "display_name": "neural_deep",
   "language": "python",
   "name": "python3"
  },
  "language_info": {
   "codemirror_mode": {
    "name": "ipython",
    "version": 3
   },
   "file_extension": ".py",
   "mimetype": "text/x-python",
   "name": "python",
   "nbconvert_exporter": "python",
   "pygments_lexer": "ipython3",
   "version": "3.10.12"
  }
 },
 "nbformat": 4,
 "nbformat_minor": 2
}
